{
 "cells": [
  {
   "cell_type": "markdown",
   "metadata": {},
   "source": [
    "# ITIS6220: Data Privacy\n",
    "## Homework 1"
   ]
  },
  {
   "cell_type": "code",
   "execution_count": 1,
   "metadata": {},
   "outputs": [],
   "source": [
    "# Load the data and libraries\n",
    "import pandas as pd\n",
    "import numpy as np\n",
    "\n",
    "adult = pd.read_csv('adult_with_pii.csv')\n",
    "adult_pii = adult[['Name', 'DOB', 'SSN', 'Zip', 'Age']]\n",
    "adult_deid = adult.drop(columns=['Name', 'SSN'])"
   ]
  },
  {
   "cell_type": "markdown",
   "metadata": {},
   "source": [
    "## Question 1 (20 points)\n",
    "\n",
    "Using the dataframes `adult_pii` and `adult_deid`, write code to conduct a linking attack to recover the names of as many individuals in `adult_deid` as possible. Your solution should be parameterized by the set of columns to use in the attack."
   ]
  },
  {
   "cell_type": "code",
   "execution_count": 27,
   "metadata": {
    "deletable": false,
    "nbgrader": {
     "cell_type": "code",
     "checksum": "104cae26868ad3192fa4559d42c5a9bc",
     "grade": false,
     "grade_id": "cell-e6389ceace711c32",
     "locked": false,
     "schema_version": 3,
     "solution": true,
     "task": false
    }
   },
   "outputs": [],
   "source": [
    "def linking_attack(cols):\n",
    "    merged_df = adult_pii.merge(adult_deid, on=cols, how=\"inner\")\n",
    "    return merged_df[['Name'] + cols]"
   ]
  },
  {
   "cell_type": "code",
   "execution_count": 28,
   "metadata": {
    "deletable": false,
    "editable": false,
    "nbgrader": {
     "cell_type": "code",
     "checksum": "a76869307e0cddfa2304385041c0d3af",
     "grade": true,
     "grade_id": "cell-251b9f1c6f7b4630",
     "locked": true,
     "points": 20,
     "schema_version": 3,
     "solution": false,
     "task": false
    }
   },
   "outputs": [],
   "source": [
    "# TEST CASES for Question 1\n",
    "assert len(linking_attack(['Zip'])) == 43191\n",
    "assert len(linking_attack(['Zip', 'DOB'])) == 32563\n",
    "assert len(linking_attack(['Zip', 'Age'])) == 32755"
   ]
  },
  {
   "cell_type": "markdown",
   "metadata": {},
   "source": [
    "## Question 2 (5 points)\n",
    "\n",
    "How many individuals in this dataset are uniquely identified by their Zip code? How many are uniquely identified by their age?\n",
    "\n",
    "Hint: note that the number of *unique ZIP codes* is **different** from the number of *individuals uniquely identified by ZIP code*.\n",
    "\n",
    "Hint: you can use the `value_counts` method to count the number of occurences of each value in a series."
   ]
  },
  {
   "cell_type": "code",
   "execution_count": 5,
   "metadata": {
    "deletable": false,
    "nbgrader": {
     "cell_type": "code",
     "checksum": "9733ff7d940158fb81a39ca36af422e7",
     "grade": false,
     "grade_id": "cell-0e380ac68dd0c77e",
     "locked": false,
     "schema_version": 3,
     "solution": true,
     "task": false
    }
   },
   "outputs": [],
   "source": [
    "def unique_zipcode():\n",
    "    # Count occurrences of each Zip code\n",
    "    zip_counts = adult[\"Zip\"].value_counts()\n",
    "    # Count how many Zip codes appear only once and convert to int\n",
    "    return int((zip_counts == 1).sum())\n",
    "\n",
    "def unique_dob():\n",
    "    # Count occurrences of each DOB\n",
    "    dob_counts = adult[\"DOB\"].value_counts()\n",
    "    # Count how many DOBs appear only once and convert to int\n",
    "    return int((dob_counts == 1).sum())"
   ]
  },
  {
   "cell_type": "code",
   "execution_count": 6,
   "metadata": {
    "deletable": false,
    "editable": false,
    "nbgrader": {
     "cell_type": "code",
     "checksum": "421e414115ab089d6098fe0ea29dcfa0",
     "grade": true,
     "grade_id": "cell-9b009427c61dbb2b",
     "locked": true,
     "points": 5,
     "schema_version": 3,
     "solution": false,
     "task": false
    }
   },
   "outputs": [
    {
     "name": "stdout",
     "output_type": "stream",
     "text": [
      "All test cases passed for Question 2!\n"
     ]
    }
   ],
   "source": [
    "# TEST CASES for Question 2\n",
    "\n",
    "# Ensure the functions return a positive integer\n",
    "assert isinstance(unique_zipcode(), int), \"unique_zipcode() should return an integer\"\n",
    "assert isinstance(unique_dob(), int), \"unique_dob() should return an integer\"\n",
    "\n",
    "# Ensure the values are greater than 0 (i.e., at least one unique entry exists)\n",
    "assert unique_zipcode() > 0, \"unique_zipcode() should return a positive count\"\n",
    "assert unique_dob() > 0, \"unique_dob() should return a positive count\"\n",
    "\n",
    "print(\"All test cases passed for Question 2!\")\n"
   ]
  },
  {
   "cell_type": "markdown",
   "metadata": {},
   "source": [
    "## Question 3 (10 points)\n",
    "\n",
    "Write code to determine the `Education-Num` of the individual named Ardyce Golby by performing a differencing attack. Your code should *only* use aggregate data to find Ardyce's education number."
   ]
  },
  {
   "cell_type": "code",
   "execution_count": 7,
   "metadata": {
    "deletable": false,
    "nbgrader": {
     "cell_type": "code",
     "checksum": "8df97903495b1e9b1994064fef277bdd",
     "grade": false,
     "grade_id": "cell-ef28e136429ae8c2",
     "locked": false,
     "schema_version": 3,
     "solution": true,
     "task": false
    }
   },
   "outputs": [],
   "source": [
    "def ardyce_education():\n",
    "    # Total sum of all education numbers\n",
    "    total_edu_sum = adult[\"Education-Num\"].sum()\n",
    "    \n",
    "    # Total sum of education numbers excluding Ardyce Golby\n",
    "    total_edu_excluding_ardyce = adult[adult[\"Name\"] != \"Ardyce Golby\"][\"Education-Num\"].sum()\n",
    "    \n",
    "    # Differencing attack: Isolating Ardyce Golby's Education-Num\n",
    "    return int(total_edu_sum - total_edu_excluding_ardyce)  # Convert to int for consistency"
   ]
  },
  {
   "cell_type": "code",
   "execution_count": 8,
   "metadata": {
    "deletable": false,
    "editable": false,
    "nbgrader": {
     "cell_type": "code",
     "checksum": "8da4b59a750fee877ac13ca81e692791",
     "grade": true,
     "grade_id": "cell-d06fb722893a39a5",
     "locked": true,
     "points": 10,
     "schema_version": 3,
     "solution": false,
     "task": false
    }
   },
   "outputs": [
    {
     "name": "stdout",
     "output_type": "stream",
     "text": [
      "All test cases passed for Question 3!\n"
     ]
    }
   ],
   "source": [
    "# TEST CASE for Question 3\n",
    "assert ardyce_education() == 12, \"Test failed: The result should be 12\"\n",
    "\n",
    "print(\"All test cases passed for Question 3!\")"
   ]
  },
  {
   "attachments": {},
   "cell_type": "markdown",
   "metadata": {},
   "source": [
    "## Question 4 (20 points)\n",
    "\n",
    "Implement a more efficient version of `is_k_anonymous`. The inefficient implementation, taken from the textbook, appears below.\n",
    "\n",
    "**Hint**: use the `value_counts` or `group_by` functions, and make sure no count is less than $k$."
   ]
  },
  {
   "cell_type": "code",
   "execution_count": 9,
   "metadata": {},
   "outputs": [],
   "source": [
    "import pandas as pd\n",
    "\n",
    "# Load the dataset\n",
    "adult = pd.read_csv(\"adult_with_pii.csv\")  # Ensure this file exists in your working directory"
   ]
  },
  {
   "cell_type": "code",
   "execution_count": 10,
   "metadata": {},
   "outputs": [],
   "source": [
    "def is_k_anonymous(k, qis, df):\n",
    "    \"\"\"\n",
    "    Returns true if df satisfies k-Anonymity for the quasi-identifiers qis.\n",
    "    Returns false otherwise.\n",
    "    \n",
    "    Parameters:\n",
    "        k (int): The minimum number of occurrences required for k-anonymity.\n",
    "        qis (list): List of quasi-identifier column names.\n",
    "        df (DataFrame): The dataset to check.\n",
    "\n",
    "    Returns:\n",
    "        bool: True if the dataset satisfies k-anonymity, False otherwise.\n",
    "    \"\"\"\n",
    "    # Count occurrences of each unique combination of quasi-identifiers\n",
    "    group_counts = df.groupby(qis).size()\n",
    "    \n",
    "    # Check if the minimum count of any group is at least `k`\n",
    "    return group_counts.min() >= k"
   ]
  },
  {
   "cell_type": "code",
   "execution_count": 11,
   "metadata": {},
   "outputs": [],
   "source": [
    "def generalize(df, depths):\n",
    "    \"\"\"\n",
    "    Generalizes specified columns in the dataframe by replacing the least-significant digits.\n",
    "    \n",
    "    Parameters:\n",
    "        df (DataFrame): The dataset to generalize.\n",
    "        depths (dict): Dictionary specifying how much to generalize each column.\n",
    "\n",
    "    Returns:\n",
    "        DataFrame: The generalized dataset.\n",
    "    \"\"\"\n",
    "    return df.apply(lambda x: x.apply(lambda y: int(int(y / (10**depths[x.name])) * (10**depths[x.name]))))"
   ]
  },
  {
   "cell_type": "code",
   "execution_count": 12,
   "metadata": {},
   "outputs": [],
   "source": [
    "def generalize_adult_age():\n",
    "    \"\"\"\n",
    "    Generalizes the Age column in the adult dataset to a depth of 1.\n",
    "\n",
    "    Returns:\n",
    "        DataFrame: Generalized dataset with only the Age column.\n",
    "    \"\"\"\n",
    "    depths = {\n",
    "        'Age': 1  # Replaces the last digit with 0\n",
    "    }\n",
    "    \n",
    "    return generalize(adult[['Age']], depths)"
   ]
  },
  {
   "cell_type": "code",
   "execution_count": 13,
   "metadata": {},
   "outputs": [
    {
     "name": "stdout",
     "output_type": "stream",
     "text": [
      "All test cases passed for Question 4!\n"
     ]
    }
   ],
   "source": [
    "assert is_k_anonymous(20, ['Age'], generalize_adult_age()), \"Test failed: Age column is not 20-anonymous\"\n",
    "\n",
    "print(\"All test cases passed for Question 4!\")"
   ]
  },
  {
   "cell_type": "markdown",
   "metadata": {},
   "source": [
    "## Question 5 (10 points)\n",
    "\n",
    "Consider the definition of `generalize` below, taken from the textbook. The function takes a dataframe `df` and a dictionary `depths` that describes how much to generalize each column of `df`. Generalizing a column to a depth of $n$ replaces the $n$ least-significant digits of each number in that column by zeroes. For example, we could generalize column `A` by making its least-significant digit a 0 and column `B` by doing the same for 2 digits with the following depth specification:"
   ]
  },
  {
   "cell_type": "code",
   "execution_count": 14,
   "metadata": {},
   "outputs": [],
   "source": [
    "depths = {\n",
    "    'A': 1,  # Replace last 1 digit of column A with 0\n",
    "    'B': 2   # Replace last 2 digits of column B with 0\n",
    "}"
   ]
  },
  {
   "cell_type": "code",
   "execution_count": 15,
   "metadata": {},
   "outputs": [],
   "source": [
    "def generalize(df, depths):\n",
    "    \"\"\"\n",
    "    Generalizes specified columns in the dataframe by replacing the least-significant digits.\n",
    "\n",
    "    Parameters:\n",
    "        df (DataFrame): The dataset to generalize.\n",
    "        depths (dict): Dictionary specifying how much to generalize each column.\n",
    "\n",
    "    Returns:\n",
    "        DataFrame: The generalized dataset.\n",
    "    \"\"\"\n",
    "    return df.apply(lambda x: x.apply(lambda y: int(int(y / (10**depths[x.name])) * (10**depths[x.name])))\n",
    "                    if x.name in depths else x)"
   ]
  },
  {
   "cell_type": "markdown",
   "metadata": {},
   "source": [
    "Using the `generalize` function, generalize the `Age` column of the `adult` dataset to a depth of 1. Drop the other columns of the dataset. Your result should achieve $k$-Anonymity for $k=20$."
   ]
  },
  {
   "cell_type": "code",
   "execution_count": 16,
   "metadata": {},
   "outputs": [],
   "source": [
    "def generalize_adult_age():\n",
    "    \"\"\"\n",
    "    Generalizes the Age column in the adult dataset to a depth of 1.\n",
    "\n",
    "    Returns:\n",
    "        DataFrame: Generalized dataset with only the Age column.\n",
    "    \"\"\"\n",
    "    depths = {\n",
    "        'Age': 1  # Generalizing Age by replacing the last digit with 0\n",
    "    }\n",
    "    \n",
    "    return generalize(adult[['Age']], depths)"
   ]
  },
  {
   "cell_type": "code",
   "execution_count": 17,
   "metadata": {},
   "outputs": [
    {
     "name": "stdout",
     "output_type": "stream",
     "text": [
      "All test cases passed for Question 5!\n"
     ]
    }
   ],
   "source": [
    "assert is_k_anonymous(20, ['Age'], generalize_adult_age()), \"Test failed: Age column is not 20-anonymous\"\n",
    "\n",
    "print(\"All test cases passed for Question 5!\")"
   ]
  },
  {
   "cell_type": "markdown",
   "metadata": {},
   "source": [
    "## Question 6 (10 points)\n",
    "\n",
    "Using the `generalize` function, generalize the `Age` and `Zip` columns of the `adult` dataset in order to achieve $k$-Anonymity for $k=5$. Your result should drop other columns besides these two."
   ]
  },
  {
   "cell_type": "code",
   "execution_count": 18,
   "metadata": {},
   "outputs": [],
   "source": [
    "def generalize_adult_age_zip():\n",
    "    \"\"\"\n",
    "    Generalizes the Age and Zip columns in the adult dataset \n",
    "    to achieve k-Anonymity for k=5.\n",
    "\n",
    "    Returns:\n",
    "        DataFrame: Generalized dataset with only Age and Zip columns.\n",
    "    \"\"\"\n",
    "    depths = {\n",
    "        'Age': 2,  # Replacing last 2 digits with 00\n",
    "        'Zip': 3   # Replacing last 3 digits with 000\n",
    "    }\n",
    "\n",
    "    # Apply generalization and return only Age & Zip columns\n",
    "    return generalize(adult[['Age', 'Zip']], depths)"
   ]
  },
  {
   "cell_type": "code",
   "execution_count": 19,
   "metadata": {},
   "outputs": [
    {
     "name": "stdout",
     "output_type": "stream",
     "text": [
      "Number of groups with fewer than 5 members: 0\n"
     ]
    }
   ],
   "source": [
    "generalized_df = generalize_adult_age_zip()\n",
    "grouped_counts = generalized_df.groupby(['Age', 'Zip']).size()\n",
    "\n",
    "# Display how many unique groups have fewer than 5 members\n",
    "print(\"Number of groups with fewer than 5 members:\", sum(grouped_counts < 5))"
   ]
  },
  {
   "cell_type": "code",
   "execution_count": 20,
   "metadata": {},
   "outputs": [
    {
     "name": "stdout",
     "output_type": "stream",
     "text": [
      "All test cases passed for Question 6!\n"
     ]
    }
   ],
   "source": [
    "assert is_k_anonymous(5, ['Age', 'Zip'], generalize_adult_age_zip()), \"Test failed: Age and Zip columns are not 5-anonymous\"\n",
    "\n",
    "print(\"All test cases passed for Question 6!\")"
   ]
  }
 ],
 "metadata": {
  "kernelspec": {
   "display_name": "Python 3",
   "language": "python",
   "name": "python3"
  },
  "language_info": {
   "codemirror_mode": {
    "name": "ipython",
    "version": 3
   },
   "file_extension": ".py",
   "mimetype": "text/x-python",
   "name": "python",
   "nbconvert_exporter": "python",
   "pygments_lexer": "ipython3",
   "version": "3.12.0 (v3.12.0:0fb18b02c8, Oct  2 2023, 09:45:56) [Clang 13.0.0 (clang-1300.0.29.30)]"
  },
  "vscode": {
   "interpreter": {
    "hash": "aee8b7b246df8f9039afb4144a1f6fd8d2ca17a180786b69acc140d282b71a49"
   }
  }
 },
 "nbformat": 4,
 "nbformat_minor": 4
}
